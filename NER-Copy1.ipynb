{
 "cells": [
  {
   "cell_type": "code",
   "execution_count": 1,
   "id": "30c9b766",
   "metadata": {},
   "outputs": [],
   "source": [
    "#import and load spacy\n",
    "import spacy\n",
    "nlp=spacy.load('en_core_web_sm')\n",
    "\n",
    "#for NER visualization\n",
    "from spacy import displacy\n",
    "\n",
    "import pandas as pd\n",
    "import re"
   ]
  },
  {
   "cell_type": "code",
   "execution_count": 2,
   "id": "b542b3b0",
   "metadata": {},
   "outputs": [
    {
     "data": {
      "text/plain": [
       "['tok2vec', 'tagger', 'parser', 'attribute_ruler', 'lemmatizer', 'ner']"
      ]
     },
     "execution_count": 2,
     "metadata": {},
     "output_type": "execute_result"
    }
   ],
   "source": [
    "#check if spacy has ner\n",
    "nlp.pipe_names"
   ]
  },
  {
   "cell_type": "code",
   "execution_count": 3,
   "id": "bdd1ccaf",
   "metadata": {},
   "outputs": [],
   "source": [
    "#text with details of tokyo olympics\n",
    "text_olympics = \"\"\" The 2020 Summer Olympics (Japanese: 2020年夏季オリンピック, Hepburn: Nisen Nijū-nen Kaki Orinpikku), officially the Games of the XXXII Olympiad (第三十二回オリンピック競技大会, Dai Sanjūni-kai Orinpikku Kyōgi Taikai) and branded as Tokyo 2020 (東京2020), was an international multi-sport event held from 23 July to 8 August 2021 in Tokyo, Japan, with some preliminary events that began on 21 July.\n",
    "\n",
    "Tokyo was selected as the host city during the 125th IOC Session in Buenos Aires, Argentina, on 7 September 2013.[2] Originally scheduled to take place from 24 July to 9 August 2020, the event was postponed to 2021 in March 2020 as a result of the COVID-19 pandemic, the first such instance in the history of the Olympic Games\n",
    " \"\"\""
   ]
  },
  {
   "cell_type": "code",
   "execution_count": 4,
   "id": "dee15bbd",
   "metadata": {},
   "outputs": [
    {
     "name": "stdout",
     "output_type": "stream",
     "text": [
      "The 2020 Summer Olympics WORK_OF_ART\n",
      "Japanese NORP\n",
      "2020年夏季オリンピック CARDINAL\n",
      "Hepburn PERSON\n",
      "Nisen Nijū-nen PERSON\n",
      "Kaki Orinpikku PERSON\n",
      "the Games of the XXXII Olympiad ( EVENT\n",
      "Dai Sanjūni-kai PERSON\n",
      "Orinpikku Kyōgi Taikai PERSON\n",
      "Tokyo GPE\n",
      "2020 DATE\n",
      "23 July to 8 August 2021 DATE\n",
      "Tokyo GPE\n",
      "Japan GPE\n",
      "21 July DATE\n",
      "Tokyo GPE\n",
      "the 125th IOC Session FAC\n",
      "Buenos Aires GPE\n",
      "Argentina GPE\n",
      "7 September 2013.[2 DATE\n",
      "24 July to 9 August 2020 DATE\n",
      "2021 DATE\n",
      "March 2020 DATE\n",
      "first ORDINAL\n",
      "the Olympic Games\n",
      "  EVENT\n"
     ]
    }
   ],
   "source": [
    "#ner on tokyo olympics text\n",
    "doc=nlp(text_olympics)\n",
    "for ent in doc.ents:\n",
    "  print(ent.text,ent.label_)"
   ]
  },
  {
   "cell_type": "code",
   "execution_count": 5,
   "id": "a64cf8d0",
   "metadata": {},
   "outputs": [
    {
     "data": {
      "text/plain": [
       "'Named hurricanes, battles, wars, sports events, etc.'"
      ]
     },
     "execution_count": 5,
     "metadata": {},
     "output_type": "execute_result"
    }
   ],
   "source": [
    "#description of entities\n",
    "spacy.explain(\"EVENT\")"
   ]
  },
  {
   "cell_type": "code",
   "execution_count": 6,
   "id": "224763a6",
   "metadata": {},
   "outputs": [
    {
     "data": {
      "text/html": [
       "<span class=\"tex2jax_ignore\"><div class=\"entities\" style=\"line-height: 2.5; direction: ltr\"> \n",
       "<mark class=\"entity\" style=\"background: #f0d0ff; padding: 0.45em 0.6em; margin: 0 0.25em; line-height: 1; border-radius: 0.35em;\">\n",
       "    The 2020 Summer Olympics\n",
       "    <span style=\"font-size: 0.8em; font-weight: bold; line-height: 1; border-radius: 0.35em; vertical-align: middle; margin-left: 0.5rem\">WORK_OF_ART</span>\n",
       "</mark>\n",
       " (\n",
       "<mark class=\"entity\" style=\"background: #c887fb; padding: 0.45em 0.6em; margin: 0 0.25em; line-height: 1; border-radius: 0.35em;\">\n",
       "    Japanese\n",
       "    <span style=\"font-size: 0.8em; font-weight: bold; line-height: 1; border-radius: 0.35em; vertical-align: middle; margin-left: 0.5rem\">NORP</span>\n",
       "</mark>\n",
       ": \n",
       "<mark class=\"entity\" style=\"background: #e4e7d2; padding: 0.45em 0.6em; margin: 0 0.25em; line-height: 1; border-radius: 0.35em;\">\n",
       "    2020年夏季オリンピック\n",
       "    <span style=\"font-size: 0.8em; font-weight: bold; line-height: 1; border-radius: 0.35em; vertical-align: middle; margin-left: 0.5rem\">CARDINAL</span>\n",
       "</mark>\n",
       ", \n",
       "<mark class=\"entity\" style=\"background: #aa9cfc; padding: 0.45em 0.6em; margin: 0 0.25em; line-height: 1; border-radius: 0.35em;\">\n",
       "    Hepburn\n",
       "    <span style=\"font-size: 0.8em; font-weight: bold; line-height: 1; border-radius: 0.35em; vertical-align: middle; margin-left: 0.5rem\">PERSON</span>\n",
       "</mark>\n",
       ": \n",
       "<mark class=\"entity\" style=\"background: #aa9cfc; padding: 0.45em 0.6em; margin: 0 0.25em; line-height: 1; border-radius: 0.35em;\">\n",
       "    Nisen Nijū-nen\n",
       "    <span style=\"font-size: 0.8em; font-weight: bold; line-height: 1; border-radius: 0.35em; vertical-align: middle; margin-left: 0.5rem\">PERSON</span>\n",
       "</mark>\n",
       " \n",
       "<mark class=\"entity\" style=\"background: #aa9cfc; padding: 0.45em 0.6em; margin: 0 0.25em; line-height: 1; border-radius: 0.35em;\">\n",
       "    Kaki Orinpikku\n",
       "    <span style=\"font-size: 0.8em; font-weight: bold; line-height: 1; border-radius: 0.35em; vertical-align: middle; margin-left: 0.5rem\">PERSON</span>\n",
       "</mark>\n",
       "), officially \n",
       "<mark class=\"entity\" style=\"background: #ffeb80; padding: 0.45em 0.6em; margin: 0 0.25em; line-height: 1; border-radius: 0.35em;\">\n",
       "    the Games of the XXXII Olympiad (\n",
       "    <span style=\"font-size: 0.8em; font-weight: bold; line-height: 1; border-radius: 0.35em; vertical-align: middle; margin-left: 0.5rem\">EVENT</span>\n",
       "</mark>\n",
       "第三十二回オリンピック競技大会, \n",
       "<mark class=\"entity\" style=\"background: #aa9cfc; padding: 0.45em 0.6em; margin: 0 0.25em; line-height: 1; border-radius: 0.35em;\">\n",
       "    Dai Sanjūni-kai\n",
       "    <span style=\"font-size: 0.8em; font-weight: bold; line-height: 1; border-radius: 0.35em; vertical-align: middle; margin-left: 0.5rem\">PERSON</span>\n",
       "</mark>\n",
       " \n",
       "<mark class=\"entity\" style=\"background: #aa9cfc; padding: 0.45em 0.6em; margin: 0 0.25em; line-height: 1; border-radius: 0.35em;\">\n",
       "    Orinpikku Kyōgi Taikai\n",
       "    <span style=\"font-size: 0.8em; font-weight: bold; line-height: 1; border-radius: 0.35em; vertical-align: middle; margin-left: 0.5rem\">PERSON</span>\n",
       "</mark>\n",
       ") and branded as \n",
       "<mark class=\"entity\" style=\"background: #feca74; padding: 0.45em 0.6em; margin: 0 0.25em; line-height: 1; border-radius: 0.35em;\">\n",
       "    Tokyo\n",
       "    <span style=\"font-size: 0.8em; font-weight: bold; line-height: 1; border-radius: 0.35em; vertical-align: middle; margin-left: 0.5rem\">GPE</span>\n",
       "</mark>\n",
       " \n",
       "<mark class=\"entity\" style=\"background: #bfe1d9; padding: 0.45em 0.6em; margin: 0 0.25em; line-height: 1; border-radius: 0.35em;\">\n",
       "    2020\n",
       "    <span style=\"font-size: 0.8em; font-weight: bold; line-height: 1; border-radius: 0.35em; vertical-align: middle; margin-left: 0.5rem\">DATE</span>\n",
       "</mark>\n",
       " (東京2020), was an international multi-sport event held from \n",
       "<mark class=\"entity\" style=\"background: #bfe1d9; padding: 0.45em 0.6em; margin: 0 0.25em; line-height: 1; border-radius: 0.35em;\">\n",
       "    23 July to 8 August 2021\n",
       "    <span style=\"font-size: 0.8em; font-weight: bold; line-height: 1; border-radius: 0.35em; vertical-align: middle; margin-left: 0.5rem\">DATE</span>\n",
       "</mark>\n",
       " in \n",
       "<mark class=\"entity\" style=\"background: #feca74; padding: 0.45em 0.6em; margin: 0 0.25em; line-height: 1; border-radius: 0.35em;\">\n",
       "    Tokyo\n",
       "    <span style=\"font-size: 0.8em; font-weight: bold; line-height: 1; border-radius: 0.35em; vertical-align: middle; margin-left: 0.5rem\">GPE</span>\n",
       "</mark>\n",
       ", \n",
       "<mark class=\"entity\" style=\"background: #feca74; padding: 0.45em 0.6em; margin: 0 0.25em; line-height: 1; border-radius: 0.35em;\">\n",
       "    Japan\n",
       "    <span style=\"font-size: 0.8em; font-weight: bold; line-height: 1; border-radius: 0.35em; vertical-align: middle; margin-left: 0.5rem\">GPE</span>\n",
       "</mark>\n",
       ", with some preliminary events that began on \n",
       "<mark class=\"entity\" style=\"background: #bfe1d9; padding: 0.45em 0.6em; margin: 0 0.25em; line-height: 1; border-radius: 0.35em;\">\n",
       "    21 July\n",
       "    <span style=\"font-size: 0.8em; font-weight: bold; line-height: 1; border-radius: 0.35em; vertical-align: middle; margin-left: 0.5rem\">DATE</span>\n",
       "</mark>\n",
       ".</br></br>\n",
       "<mark class=\"entity\" style=\"background: #feca74; padding: 0.45em 0.6em; margin: 0 0.25em; line-height: 1; border-radius: 0.35em;\">\n",
       "    Tokyo\n",
       "    <span style=\"font-size: 0.8em; font-weight: bold; line-height: 1; border-radius: 0.35em; vertical-align: middle; margin-left: 0.5rem\">GPE</span>\n",
       "</mark>\n",
       " was selected as the host city during \n",
       "<mark class=\"entity\" style=\"background: #ddd; padding: 0.45em 0.6em; margin: 0 0.25em; line-height: 1; border-radius: 0.35em;\">\n",
       "    the 125th IOC Session\n",
       "    <span style=\"font-size: 0.8em; font-weight: bold; line-height: 1; border-radius: 0.35em; vertical-align: middle; margin-left: 0.5rem\">FAC</span>\n",
       "</mark>\n",
       " in \n",
       "<mark class=\"entity\" style=\"background: #feca74; padding: 0.45em 0.6em; margin: 0 0.25em; line-height: 1; border-radius: 0.35em;\">\n",
       "    Buenos Aires\n",
       "    <span style=\"font-size: 0.8em; font-weight: bold; line-height: 1; border-radius: 0.35em; vertical-align: middle; margin-left: 0.5rem\">GPE</span>\n",
       "</mark>\n",
       ", \n",
       "<mark class=\"entity\" style=\"background: #feca74; padding: 0.45em 0.6em; margin: 0 0.25em; line-height: 1; border-radius: 0.35em;\">\n",
       "    Argentina\n",
       "    <span style=\"font-size: 0.8em; font-weight: bold; line-height: 1; border-radius: 0.35em; vertical-align: middle; margin-left: 0.5rem\">GPE</span>\n",
       "</mark>\n",
       ", on \n",
       "<mark class=\"entity\" style=\"background: #bfe1d9; padding: 0.45em 0.6em; margin: 0 0.25em; line-height: 1; border-radius: 0.35em;\">\n",
       "    7 September 2013.[2\n",
       "    <span style=\"font-size: 0.8em; font-weight: bold; line-height: 1; border-radius: 0.35em; vertical-align: middle; margin-left: 0.5rem\">DATE</span>\n",
       "</mark>\n",
       "] Originally scheduled to take place from \n",
       "<mark class=\"entity\" style=\"background: #bfe1d9; padding: 0.45em 0.6em; margin: 0 0.25em; line-height: 1; border-radius: 0.35em;\">\n",
       "    24 July to 9 August 2020\n",
       "    <span style=\"font-size: 0.8em; font-weight: bold; line-height: 1; border-radius: 0.35em; vertical-align: middle; margin-left: 0.5rem\">DATE</span>\n",
       "</mark>\n",
       ", the event was postponed to \n",
       "<mark class=\"entity\" style=\"background: #bfe1d9; padding: 0.45em 0.6em; margin: 0 0.25em; line-height: 1; border-radius: 0.35em;\">\n",
       "    2021\n",
       "    <span style=\"font-size: 0.8em; font-weight: bold; line-height: 1; border-radius: 0.35em; vertical-align: middle; margin-left: 0.5rem\">DATE</span>\n",
       "</mark>\n",
       " in \n",
       "<mark class=\"entity\" style=\"background: #bfe1d9; padding: 0.45em 0.6em; margin: 0 0.25em; line-height: 1; border-radius: 0.35em;\">\n",
       "    March 2020\n",
       "    <span style=\"font-size: 0.8em; font-weight: bold; line-height: 1; border-radius: 0.35em; vertical-align: middle; margin-left: 0.5rem\">DATE</span>\n",
       "</mark>\n",
       " as a result of the COVID-19 pandemic, the \n",
       "<mark class=\"entity\" style=\"background: #e4e7d2; padding: 0.45em 0.6em; margin: 0 0.25em; line-height: 1; border-radius: 0.35em;\">\n",
       "    first\n",
       "    <span style=\"font-size: 0.8em; font-weight: bold; line-height: 1; border-radius: 0.35em; vertical-align: middle; margin-left: 0.5rem\">ORDINAL</span>\n",
       "</mark>\n",
       " such instance in the history of \n",
       "<mark class=\"entity\" style=\"background: #ffeb80; padding: 0.45em 0.6em; margin: 0 0.25em; line-height: 1; border-radius: 0.35em;\">\n",
       "    the Olympic Games\n",
       " \n",
       "    <span style=\"font-size: 0.8em; font-weight: bold; line-height: 1; border-radius: 0.35em; vertical-align: middle; margin-left: 0.5rem\">EVENT</span>\n",
       "</mark>\n",
       "</div></span>"
      ],
      "text/plain": [
       "<IPython.core.display.HTML object>"
      ]
     },
     "metadata": {},
     "output_type": "display_data"
    }
   ],
   "source": [
    "#visualizing entities on the text\n",
    "displacy.render(doc,style=\"ent\",jupyter=True)"
   ]
  },
  {
   "cell_type": "code",
   "execution_count": 7,
   "id": "9daec65b",
   "metadata": {},
   "outputs": [],
   "source": [
    "text_disease = \"\"\"Based on the statistics from WHO and the Centers for Disease Control and Prevention,here are the five most common infectious diseases.\n",
    "According to current statistics, hepatitis B is the most common infectious disease in the world, affecting some 2 billion people -- that's more than one-quarter of the world's population. This disease, which is characterized by an inflammation of the liver that leads to jaundice, nausea, and fatigue, can lead to long-term complications such as cirrhosis of the liver or even liver cancer. The concern is primarily for those who carry the chronic form of the disease, which is estimated to be about 350 million people.Malaria, a mosquito-borne disease that tends to affect children the most in tropical and subtropical climates, affects more than 500 million people annually and results in anywhere between 1 million and 3 million deaths. Behind hepatitis B, it appears to be the second most-common infectious disease, and it certainly is one of the most deadly on an annual basis.\n",
    "Malaria, a mosquito-borne disease that tends to affect children the most in tropical and subtropical climates, affects more than 500 million people annually and results in anywhere between 1 million and 3 million deaths. Behind hepatitis B, it appears to be the second most-common infectious disease, and it certainly is one of the most deadly on an annual basis.\n",
    "Hepatitis C is a less common and less severe form of hepatitis, but it almost always develops into a chronic, not acute, condition, unlike hepatitis B. Although only 3 million to 4 million new cases are reported each year, some 180 million people worldwide suffer from this chronic condition, which can lead to liver cancer or cirrhosis of the liver over time.\n",
    "It's at times like these that we curse mosquitoes, because a very specific type of mosquito (Aedes aegypti) is responsible for the transmission of dengue to approximately 50 million people each year. Dengue is most common in Africa and Asia and thankfully occurs in only mild to moderate forms, which can cause high fever, severe headaches, and joint and muscle pain, but rarely leads to the death of the infected patient.\n",
    "As I mentioned previously, estimating new and ongoing cases for some of these diseases can be downright difficult, and perhaps none more so than tuberculosis. TB is caused by a bacteria found in the lungs that can cause chest pain and a bad cough, as well as lead to a number of other nasty side effects. According to WHO, it's also the second-leading global killer behind AIDS as a single infectious agent.The majority of TB-associated deaths (95%) occur in low- to middle-income countries where TB awareness and prevention simply aren't where they need to be. The good news is that TB death rates on a global basis are falling; however, there were still 8.6 million new cases of TB reported last year, and roughly one-third of the world's population carries a latent form of TB,\n",
    "meaning they've been infected but aren't ill and can't transmit the disease yet. \"\"\""
   ]
  },
  {
   "cell_type": "code",
   "execution_count": 8,
   "id": "6f74b17b",
   "metadata": {},
   "outputs": [
    {
     "name": "stdout",
     "output_type": "stream",
     "text": [
      "WHO ORG\n",
      "the Centers for Disease Control and Prevention ORG\n",
      "five CARDINAL\n",
      "some 2 billion CARDINAL\n",
      "more than one-quarter CARDINAL\n",
      "about 350 million CARDINAL\n",
      "Malaria GPE\n",
      "more than 500 million CARDINAL\n",
      "annually DATE\n",
      "between 1 million and 3 million QUANTITY\n",
      "second ORDINAL\n",
      "annual DATE\n",
      "Malaria GPE\n",
      "more than 500 million CARDINAL\n",
      "annually DATE\n",
      "between 1 million and 3 million QUANTITY\n",
      "second ORDINAL\n",
      "annual DATE\n",
      "only 3 million to 4 million CARDINAL\n",
      "each year DATE\n",
      "some 180 million CARDINAL\n",
      "mosquito PERSON\n",
      "approximately 50 million CARDINAL\n",
      "each year DATE\n",
      "Dengue ORG\n",
      "Africa LOC\n",
      "Asia LOC\n",
      "TB ORG\n",
      "second ORDINAL\n",
      "TB ORG\n",
      "95% PERCENT\n",
      "TB ORG\n",
      "TB ORG\n",
      "8.6 million CARDINAL\n",
      "TB ORG\n",
      "last year DATE\n",
      "roughly one-third CARDINAL\n",
      "TB ORG\n"
     ]
    }
   ],
   "source": [
    "doc=nlp(text_disease)\n",
    "for ent in doc.ents:\n",
    "  print(ent.text,ent.label_)"
   ]
  },
  {
   "cell_type": "markdown",
   "id": "548a1646",
   "metadata": {},
   "source": [
    "## Updating NER"
   ]
  },
  {
   "cell_type": "code",
   "execution_count": 9,
   "id": "e6678e81",
   "metadata": {},
   "outputs": [],
   "source": [
    "# Load pre-existing spacy model\n",
    "import spacy\n",
    "nlp=spacy.load('en_core_web_sm')"
   ]
  },
  {
   "cell_type": "code",
   "execution_count": 10,
   "id": "2f2fd78b",
   "metadata": {},
   "outputs": [
    {
     "data": {
      "text/plain": [
       "<spacy.pipeline.ner.EntityRecognizer at 0x2c1156bfca0>"
      ]
     },
     "execution_count": 10,
     "metadata": {},
     "output_type": "execute_result"
    }
   ],
   "source": [
    "# Getting the pipeline component\n",
    "ner=nlp.get_pipe(\"ner\")\n",
    "ner"
   ]
  },
  {
   "cell_type": "code",
   "execution_count": 11,
   "id": "89bd1d19",
   "metadata": {},
   "outputs": [],
   "source": [
    "#feed spacy with custom defined entities\n",
    "TRAIN_DATA = [(text_disease , {\"entities\": [(654,661, 'DISEASE'),(1890,1896, 'DISEASE'),(2311,2323, 'DISEASE'),\n",
    "                                            (1382,1391, 'DISEASE'), (406,414, 'DISEASE'), \n",
    "                                            (2539,2543, 'DISEASE'), (168,177, 'DISEASE'),\n",
    "                                           (2325,2327, 'DISEASE'), (518,524, 'DISEASE')]})]\n",
    "#TRAIN_DATA = [(\"According to current statistics, malaria and hepatitis are the most common infectious disease in the world, affecting some 2 billion people\" , {\"entities\": [(33,40, \"DISEASE\"),(45,54, \"DISEASE\") ]})]"
   ]
  },
  {
   "cell_type": "code",
   "execution_count": 12,
   "id": "217b2a01",
   "metadata": {},
   "outputs": [
    {
     "name": "stdout",
     "output_type": "stream",
     "text": [
      "654,661\n"
     ]
    }
   ],
   "source": [
    "string = text_disease\n",
    "match = re.search(\"Malaria\", string)\n",
    "print('%d,%d' % (match.start(), match.end()))"
   ]
  },
  {
   "cell_type": "code",
   "execution_count": 13,
   "id": "14860c65",
   "metadata": {},
   "outputs": [],
   "source": [
    "# Add the new labels to ner\n",
    "for _, annotations in TRAIN_DATA:\n",
    "  for ent in annotations.get(\"entities\"):\n",
    "    ner.add_label(ent[2])"
   ]
  },
  {
   "cell_type": "code",
   "execution_count": 14,
   "id": "9d05c0a2",
   "metadata": {},
   "outputs": [],
   "source": [
    "#Disable pipeline components you dont need to change\n",
    "pipe_exceptions = [\"ner\", \"trf_wordpiecer\", \"trf_tok2vec\"]\n",
    "unaffected_pipes = [pipe for pipe in nlp.pipe_names if pipe not in pipe_exceptions]"
   ]
  },
  {
   "cell_type": "markdown",
   "id": "408ceffc",
   "metadata": {},
   "source": [
    "## Training the NER model"
   ]
  },
  {
   "cell_type": "code",
   "execution_count": 15,
   "id": "67debf3b",
   "metadata": {},
   "outputs": [],
   "source": [
    "#import necessary libraries for training\n",
    "# Import requirements\n",
    "import random\n",
    "from spacy.util import minibatch, compounding\n",
    "from spacy.training import Example"
   ]
  },
  {
   "cell_type": "code",
   "execution_count": 16,
   "id": "e019d3a2",
   "metadata": {},
   "outputs": [
    {
     "name": "stdout",
     "output_type": "stream",
     "text": [
      "Losses {'ner': 71.16944546145112}\n",
      "Losses {'ner': 58.741132901598036}\n",
      "Losses {'ner': 62.10449638205967}\n",
      "Losses {'ner': 35.57393221243143}\n",
      "Losses {'ner': 33.836670909181635}\n",
      "Losses {'ner': 32.30285139325153}\n",
      "Losses {'ner': 27.586703860583505}\n",
      "Losses {'ner': 32.13765710394284}\n",
      "Losses {'ner': 30.334683642074125}\n",
      "Losses {'ner': 20.841288943407783}\n",
      "Losses {'ner': 19.04068992610985}\n",
      "Losses {'ner': 21.125159881830996}\n",
      "Losses {'ner': 18.979337074870056}\n",
      "Losses {'ner': 20.394084833692773}\n",
      "Losses {'ner': 20.25169690113944}\n",
      "Losses {'ner': 18.075847051909705}\n",
      "Losses {'ner': 18.610023264074698}\n",
      "Losses {'ner': 19.909433807744335}\n",
      "Losses {'ner': 18.160041433617153}\n",
      "Losses {'ner': 18.045635228239917}\n",
      "Losses {'ner': 17.20359768749404}\n",
      "Losses {'ner': 17.050407409260515}\n",
      "Losses {'ner': 17.426241328998003}\n",
      "Losses {'ner': 17.85346345131984}\n",
      "Losses {'ner': 17.37776712939376}\n",
      "Losses {'ner': 16.228256308007985}\n",
      "Losses {'ner': 16.547508589428617}\n",
      "Losses {'ner': 15.598951879364904}\n",
      "Losses {'ner': 16.911050660302863}\n",
      "Losses {'ner': 16.753880378957547}\n",
      "Losses {'ner': 16.744313698247424}\n",
      "Losses {'ner': 17.133294359431602}\n",
      "Losses {'ner': 17.625289172116027}\n",
      "Losses {'ner': 17.445900628597883}\n",
      "Losses {'ner': 15.910254729096778}\n",
      "Losses {'ner': 16.81669419683385}\n",
      "Losses {'ner': 15.114029343035327}\n",
      "Losses {'ner': 15.766208028690016}\n",
      "Losses {'ner': 17.097611138893626}\n",
      "Losses {'ner': 15.214664434693987}\n",
      "Losses {'ner': 15.555913085918291}\n",
      "Losses {'ner': 15.232933519393555}\n",
      "Losses {'ner': 14.636029234312446}\n",
      "Losses {'ner': 13.198367230328586}\n",
      "Losses {'ner': 14.075630740648194}\n",
      "Losses {'ner': 14.615639578357786}\n",
      "Losses {'ner': 14.011228481345825}\n",
      "Losses {'ner': 13.216820771041967}\n",
      "Losses {'ner': 12.9346255024454}\n",
      "Losses {'ner': 13.55896960492376}\n",
      "Losses {'ner': 8.015638317762296}\n",
      "Losses {'ner': 14.16025977221203}\n",
      "Losses {'ner': 12.407895124972754}\n",
      "Losses {'ner': 11.113969033733156}\n",
      "Losses {'ner': 8.387429117398174}\n",
      "Losses {'ner': 13.751900200781279}\n",
      "Losses {'ner': 8.277611268051658}\n",
      "Losses {'ner': 10.314277013567889}\n",
      "Losses {'ner': 5.513712020303442}\n",
      "Losses {'ner': 6.89548945475803}\n",
      "Losses {'ner': 5.131754818930382}\n",
      "Losses {'ner': 8.122026770368258}\n",
      "Losses {'ner': 9.141019893520486}\n",
      "Losses {'ner': 4.493322428302761}\n",
      "Losses {'ner': 6.964743137199371}\n",
      "Losses {'ner': 9.90888344724113}\n",
      "Losses {'ner': 7.82693422031543}\n",
      "Losses {'ner': 4.761087286453233}\n",
      "Losses {'ner': 5.858905374997832}\n",
      "Losses {'ner': 7.511699925491744}\n",
      "Losses {'ner': 4.8420449026519625}\n",
      "Losses {'ner': 6.819221088080696}\n",
      "Losses {'ner': 6.013093755430504}\n",
      "Losses {'ner': 7.345003986560696}\n",
      "Losses {'ner': 7.752768493219376}\n",
      "Losses {'ner': 9.251991372644294}\n",
      "Losses {'ner': 2.965698118264445}\n",
      "Losses {'ner': 4.62959749012267}\n",
      "Losses {'ner': 5.375477145767452}\n",
      "Losses {'ner': 10.586140622831905}\n",
      "Losses {'ner': 4.516989445916961}\n",
      "Losses {'ner': 5.960428142723067}\n",
      "Losses {'ner': 6.915009330298334}\n",
      "Losses {'ner': 4.788875271199414}\n",
      "Losses {'ner': 3.5503918490754596}\n",
      "Losses {'ner': 2.8819637918219083}\n",
      "Losses {'ner': 3.5891106974825333}\n",
      "Losses {'ner': 3.1811566404397476}\n",
      "Losses {'ner': 4.9249477694916495}\n",
      "Losses {'ner': 3.655898752665086}\n",
      "Losses {'ner': 3.704875228009153}\n",
      "Losses {'ner': 6.814650277689535}\n",
      "Losses {'ner': 4.118794723976574}\n",
      "Losses {'ner': 3.919635240013887}\n",
      "Losses {'ner': 6.146225197987029}\n",
      "Losses {'ner': 2.0405535017712544}\n",
      "Losses {'ner': 5.602324748000613}\n",
      "Losses {'ner': 4.008244796608348}\n",
      "Losses {'ner': 3.0954818129120567}\n",
      "Losses {'ner': 3.547959486338703}\n"
     ]
    }
   ],
   "source": [
    "# Begin training by disabling other pipeline components\n",
    "with nlp.disable_pipes(*unaffected_pipes) :\n",
    "\n",
    "  sizes = compounding(1.0, 4.0, 1.001)\n",
    "  # Training for 30 iterations     \n",
    "  for itn in range(100):\n",
    "    # shuffle examples before training\n",
    "    random.shuffle(TRAIN_DATA)\n",
    "    # batch up the examples using spaCy's minibatch\n",
    "    batches = minibatch(TRAIN_DATA, size=sizes)\n",
    "    # ictionary to store losses\n",
    "    losses = {}\n",
    "    for batch in batches:\n",
    "      for text, annotations in batch:\n",
    "        doc = nlp.make_doc(text)\n",
    "        example = Example.from_dict(doc, annotations)\n",
    "        nlp.update([example], drop=0.5, losses=losses)\n",
    "        print(\"Losses\",losses)"
   ]
  },
  {
   "cell_type": "code",
   "execution_count": 17,
   "id": "c1318fde",
   "metadata": {},
   "outputs": [
    {
     "name": "stdout",
     "output_type": "stream",
     "text": [
      "Entities [('Hepatitis', 'DISEASE'), ('jaundice', 'DISEASE'), ('Tuberculosis', 'DISEASE'), ('AIDS', 'DISEASE'), ('Cancer', 'DISEASE'), ('Chikungunya', 'DISEASE'), ('Pneumonia', 'DISEASE'), ('Malaria', 'DISEASE')]\n"
     ]
    }
   ],
   "source": [
    "# Testing the NER\n",
    "doc = nlp(\"Hepatitis is a disease which causes inflammation of the liver and it can also cause jaundice.Tuberculosis is caused by a bacterium called Mycobacterium tuberculosis.AIDS is the late stage of HIV infection that occurs when the body's immune system is badly damaged because of the virus.Typhoid is a bacterial infection that can lead to a high fever, diarrhea, and vomiting.Cancer is a disease in which some of the body's cells grow uncontrollably and spread to other parts of the body.Chikungunya is a viral disease transmitted to humans by infected mosquitoes.Pneumonia is an infection that inflames the air sacs in one or both lungs.Malaria is a disease caused by a parasite.\" )\n",
    "print(\"Entities\", [(ent.text, ent.label_) for ent in doc.ents])                   "
   ]
  },
  {
   "cell_type": "code",
   "execution_count": null,
   "id": "feff57dc",
   "metadata": {},
   "outputs": [],
   "source": []
  }
 ],
 "metadata": {
  "kernelspec": {
   "display_name": "Python 3",
   "language": "python",
   "name": "python3"
  },
  "language_info": {
   "codemirror_mode": {
    "name": "ipython",
    "version": 3
   },
   "file_extension": ".py",
   "mimetype": "text/x-python",
   "name": "python",
   "nbconvert_exporter": "python",
   "pygments_lexer": "ipython3",
   "version": "3.8.8"
  }
 },
 "nbformat": 4,
 "nbformat_minor": 5
}
